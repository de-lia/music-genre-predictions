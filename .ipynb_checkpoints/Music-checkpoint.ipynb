{
 "cells": [
  {
   "cell_type": "code",
   "execution_count": null,
   "id": "6f943a37",
   "metadata": {
    "scrolled": false
   },
   "outputs": [],
   "source": [
    "import pandas as pd\n",
    "from sklearn.pipeline import make_pipeline\n",
    "from sklearn.tree import DecisionTreeClassifier\n",
    "from sklearn.model_selection import train_test_split\n",
    "from sklearn.metrics import accuracy_score"
   ]
  },
  {
   "cell_type": "code",
   "execution_count": null,
   "id": "f9098c6b",
   "metadata": {},
   "outputs": [],
   "source": [
    "#Cleaning\n",
    "music_data = pd.read_csv(\"music.csv\")\n",
    "music_data = music_data.drop(\"other genres\", axis=\"columns\")\n",
    "music_data = music_data.drop(\"Timestamp\", axis=\"columns\")\n",
    "music_data[\"genre\"] = music_data[\"genre_with_examples\"].str.split(\"|\", expand=True)[1]\n",
    "music_data = music_data.drop(\"genre_with_examples\", axis=\"columns\")"
   ]
  },
  {
   "cell_type": "code",
   "execution_count": null,
   "id": "2ad2c594",
   "metadata": {},
   "outputs": [],
   "source": [
    "#Splitting\n",
    "features = [\"gender\", \"age\"]\n",
    "target = \"genre\"\n",
    "X_train = music_data[features]\n",
    "y_train = music_data[target]"
   ]
  },
  {
   "cell_type": "code",
   "execution_count": null,
   "id": "d38a7a8f",
   "metadata": {},
   "outputs": [],
   "source": [
    "#Baselining\n",
    "y_mean = y_train.mean()\n",
    "y_pred_baseline = [y_mean] * len(y_train)\n",
    "y_pred_baseline[:5]"
   ]
  }
 ],
 "metadata": {
  "kernelspec": {
   "display_name": "Python 3 (ipykernel)",
   "language": "python",
   "name": "python3"
  },
  "language_info": {
   "codemirror_mode": {
    "name": "ipython",
    "version": 3
   },
   "file_extension": ".py",
   "mimetype": "text/x-python",
   "name": "python",
   "nbconvert_exporter": "python",
   "pygments_lexer": "ipython3",
   "version": "3.8.10"
  }
 },
 "nbformat": 4,
 "nbformat_minor": 5
}
